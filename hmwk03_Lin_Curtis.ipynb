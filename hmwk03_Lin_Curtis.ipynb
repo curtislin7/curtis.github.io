{
 "cells": [
  {
   "cell_type": "markdown",
   "metadata": {},
   "source": [
    "# Homework 3: Random Variables and Their Distributions\n",
    "***\n",
    "\n",
    "**Name**: \n",
    "\n",
    "***\n",
    "\n",
    "This assignment is due on Moodle by **5pm on Friday March 2nd**. Your solutions to theoretical questions should be done in Markdown/MathJax directly below the associated question.  Your solutions to computational questions should include any specified Python code and results as well as written commentary on your conclusions.  Remember that you are encouraged to discuss the problems with your instructors and classmates, but **you must write all code and solutions on your own**.  For a refresher on the course **Collaboration Policy** click [here](https://github.com/dblarremore/csci3022/blob/master/resources/syllabus.md#collaboration-policy).  \n",
    "\n",
    "**NOTES**: \n",
    "\n",
    "- Do **NOT** load or use any Python packages that are not available in Anaconda 3.6. \n",
    "- Some problems with code may be autograded.  If we provide a function API **do not** change it.  If we do not provide a function API then you're free to structure your code however you like. \n",
    "- Because you can technically evaluate notebook cells is a non-linear order, it's a good idea to do Cell $\\rightarrow$ Run All as a check before submitting your solutions.  That way if we need to run your code you will know that it will work as expected. \n",
    "- Submit only this Jupyter notebook to Moodle.  Do not compress it using tar, rar, zip, etc. \n",
    "\n",
    "### Work only 4 of the 5 problems below! Your choice."
   ]
  },
  {
   "cell_type": "code",
   "execution_count": 2,
   "metadata": {
    "scrolled": true
   },
   "outputs": [],
   "source": [
    "import pandas as pd\n",
    "import numpy as np\n",
    "import matplotlib.pylab as plt\n",
    "from scipy.special import binom\n",
    "%matplotlib inline"
   ]
  },
  {
   "cell_type": "markdown",
   "metadata": {},
   "source": [
    "### [25 points] Problem 1\n",
    "***\n",
    "\n",
    "Let $X$ be the lifespan (in years) of a BF Otterich Rugged Trail T/A tire under normal driving conditions, and suppose $X$ is described by the following probability density function: \n",
    "\n",
    "$$\n",
    "f(x) = \\left\\{ \n",
    "\\begin{array}{ll}\n",
    "\\dfrac{15}{c x^3} & 1 \\leq x \\leq 15 \\\\\n",
    "0 & \\textrm{otherwise}\n",
    "\\end{array}\n",
    "\\right.\n",
    "$$\n",
    "\n",
    "**Part A**: Determine the value of $c$ such that $f(x)$ is a valid PDF. "
   ]
  },
  {
   "cell_type": "markdown",
   "metadata": {
    "collapsed": true
   },
   "source": []
  },
  {
   "cell_type": "markdown",
   "metadata": {},
   "source": [
    "**Part B**: Compute the cumulative distribution function $F(y)$ for $X$. "
   ]
  },
  {
   "cell_type": "markdown",
   "metadata": {},
   "source": [
    "$1.$ If x is in interval ($\\infty$,1)\n",
    "$$F(y) = \\int_{-\\infty}^y f(x) \\,dx$$\n",
    "\n",
    "$$= \\int_{-\\infty}^y 0 \\,dx$$\n",
    "\n",
    "$$=0$$\n",
    "\n",
    "$2.$ If x is in interval [1,15]\n",
    "$$F(y) = \\int_{-\\infty}^y f(x) \\,dx$$\n",
    "\n",
    "$$= \\int_{-\\infty}^1 f(x) \\,dx + \\int_{1}^y f(x) \\,dx$$\n",
    "\n",
    "$$=0 + \\frac{225}{-224x^2}\\big|_1^y$$\n",
    "\n",
    "$$=0 + (\\frac{225}{224y^2} + \\frac{225}{224})$$\n",
    "\n",
    "$3.$ If interval is on interval [15,$\\infty$]\n",
    "$$F(y) = \\int_{-\\infty}^1 f(x) \\,dx + \\int_1^{15} f(x) \\,dx + \\int_{15}^{x} f(x)  \\,dx$$\n",
    "\n",
    "$$ = 0 + \\frac{225}{-224x^2}\\big|_1^{15}$$\n",
    "\n",
    "$4.$ Therefore, the cdf is:\n",
    "\n",
    "$$\n",
    "f(x) = \\left\\{ \n",
    "\\begin{array}{ll}\n",
    "0 & x<1 \\\\ \n",
    "\\frac{225}{-224y^2} + \\frac{225}{224} & 1\\leq x \\leq 15 \\\\\n",
    "1 & x>15\\\\\n",
    "\\end{array}\n",
    "\\right.\n",
    "$$"
   ]
  },
  {
   "cell_type": "markdown",
   "metadata": {},
   "source": [
    "**Part C**: Use the cdf you computed in **Part B** to find the probability that a single tire goes longer than 5 years without failing. "
   ]
  },
  {
   "cell_type": "markdown",
   "metadata": {
    "collapsed": true
   },
   "source": [
    "$$cdf(5) = P(X\\leq5)$$\n",
    "\n",
    "$$cdf(5) = \\frac{225}{-224(5^2)} + \\frac{225}{224} = \\frac{27}{28}$$\n",
    "\n",
    "$$1-cdf(5)= P(x>5)$$\n",
    "\n",
    "$$1-\\frac{27}{28} = \\frac{1}{28}$$"
   ]
  },
  {
   "cell_type": "markdown",
   "metadata": {},
   "source": [
    "**Part D**: Use the cdf you computed in **Part B** to determine the number of years within which $62.5\\%$ of all tires will need to be replaced. In other words, determine the 62.5th percentile of the distribution of $X$. "
   ]
  },
  {
   "cell_type": "markdown",
   "metadata": {
    "collapsed": true
   },
   "source": [
    "$$p(x\\leq X) = cdf(X) = .625$$\n",
    "\n",
    "$$\\frac{225}{-224(x^2)} + \\frac{225}{224} = .625$$\n",
    "\n",
    "$$225 = (.625 - \\frac{225}{224})(-224x^2)$$\n",
    "\n",
    "$$\\frac{225}{(.625-\\frac{225}{224})(-224)} = x^2$$\n",
    "\n",
    "$$\\sqrt{\\frac{225}{(.625-\\frac{225}{224})(-224)}} = x$$\n",
    "\n",
    "$$1.627 years= x$$"
   ]
  },
  {
   "cell_type": "markdown",
   "metadata": {},
   "source": [
    "**Part E**: What is the probability that all four BF Otterich Rugged Trail T/A tires on a vehicle last longer than 5 years without failing? "
   ]
  },
  {
   "cell_type": "markdown",
   "metadata": {
    "collapsed": true
   },
   "source": [
    "All four tires are \"independent,\" therefore:\n",
    "$$(\\frac{1}{28})^4 = 1.627*10^{-6}$$ "
   ]
  },
  {
   "cell_type": "markdown",
   "metadata": {},
   "source": [
    "### [25 points] Problem 2\n",
    "***\n",
    "\n",
    "You are a data-driven transportation engineer investigating the effect that a particular [vertical lift bridge](https://en.wikipedia.org/wiki/Vertical-lift_bridge) has on city traffic.  Every time a boat passes under the bridge, cars must stop while the bridge is raised to accommodate the height of the boat.  As both boat and car traffic increases, city planners are considering building a new taller bridge that will never impede the flow of traffic. As part of a larger simulation of traffic congestion, you need to decide how to model the arrival of boats at the bridge.  From your Intro to Data Science class you remember that the time _between_ independent arrivals are usually modeled by an Exponential distribution.  Finally, you have access to a report that says on average 10 boats cross under the bridge per day.\n",
    "\n",
    "Answer the following questions about this scenario. **Note** that for **Parts B-D** you should clearly express the computation you're doing with math, but feel free to do any fancy function evaluations with Python. \n",
    "\n",
    "**Part A**:  Assuming the between-boat times do in-fact follow $Exp(10)$, what distribution would you expect the **number** of boats that cross under the bridge on a given day to follow?  What are the parameter(s) of the distribution? "
   ]
  },
  {
   "cell_type": "code",
   "execution_count": null,
   "metadata": {},
   "outputs": [],
   "source": []
  },
  {
   "cell_type": "markdown",
   "metadata": {},
   "source": [
    "**Part B**:  What is the probability that 13 boats cross under the bridge on a particular day?"
   ]
  },
  {
   "cell_type": "code",
   "execution_count": null,
   "metadata": {},
   "outputs": [],
   "source": []
  },
  {
   "cell_type": "markdown",
   "metadata": {},
   "source": [
    "**Part C**:  What is the probability that 8 boats or fewer cross under the bridge on a particular day?"
   ]
  },
  {
   "cell_type": "code",
   "execution_count": null,
   "metadata": {},
   "outputs": [],
   "source": []
  },
  {
   "cell_type": "markdown",
   "metadata": {},
   "source": [
    "**Part D**: What is the probability that between 2 and 4 hours pass between two boat crossings? "
   ]
  },
  {
   "cell_type": "code",
   "execution_count": null,
   "metadata": {},
   "outputs": [],
   "source": []
  },
  {
   "cell_type": "markdown",
   "metadata": {},
   "source": [
    "**Part F**: Write a function boat_count that takes as its sole argument the rate parameter $\\lambda$ with units boats per day. Your function should simulate boat arrivals at the bridge by sampling between-boat times from $Exp(\\lambda)$ via Numpy's [random.exponential](https://docs.scipy.org/doc/numpy-1.13.0/reference/generated/numpy.random.exponential.html) function and return the number of boats that pass under the bridge on a single simulated day. \n",
    "\n",
    "**Note**: Do not change the API for this function. In other words, please keep the name of the function, its input parameter, and its desired output the same. Of course, the inner workings of this function and the actual value that it returns are in your hands!"
   ]
  },
  {
   "cell_type": "code",
   "execution_count": null,
   "metadata": {},
   "outputs": [],
   "source": [
    "def boat_count(lam):\n",
    "    return 0"
   ]
  },
  {
   "cell_type": "markdown",
   "metadata": {},
   "source": [
    "**Part G**: Write a function boat_count_sim that takes as arguments the rate parameter $\\lambda$ with units boats per day and an integer number of days to simulate. Your function should use the function you wrote in **Part F** to simulate many independent days of boat crossings and estimate the probability that 8 boats or fewer cross under the bridge on a particular day. For $\\lambda = 10$, does your estimate agree with the by-hand computation you did in **Part C**?  \n",
    "\n",
    "**Note**: Do not change the API for this function. "
   ]
  },
  {
   "cell_type": "code",
   "execution_count": null,
   "metadata": {},
   "outputs": [],
   "source": [
    "def boat_count_sim(lam, num_days=int(1e3)):\n",
    "    return 1.0 "
   ]
  },
  {
   "cell_type": "markdown",
   "metadata": {},
   "source": [
    "**Part H**: Write a function boat_time_sim that takes as arguments the rate parameter $\\lambda$ with units boats per day and an integer number of boat arrivals to simulate. Your function should sample boat arrivals via [np.random.exponential](https://docs.scipy.org/doc/numpy-1.13.0/reference/generated/numpy.random.exponential.html) and estimate the probability that boats arrive between 2 and 4 hours apart.  For $\\lambda = 10$, does your estimate agree with the by-hand computation you did in **Part D**?  \n",
    "\n",
    "**Note**: Do not change the API for this function.  "
   ]
  },
  {
   "cell_type": "code",
   "execution_count": null,
   "metadata": {},
   "outputs": [],
   "source": [
    "def boat_time_sim(lam, num_boats=int(1e3)): \n",
    "    return 1.0 "
   ]
  },
  {
   "cell_type": "markdown",
   "metadata": {},
   "source": [
    "### [25 points] Problem 3 \n",
    "***\n",
    "\n",
    "Let $X =$ the leading digit of a randomly selected number from a large accounting\n",
    "ledger. For example, if we randomly draw the number \\$20,695, then $X = 2.$\n",
    "People who make up numbers to commit accounting fraud tend to give $X$ a\n",
    "(discrete) uniform distribution, i.e., $P(X = x) = \\frac{1}{9}$, for $x \\in \\{1, ..., 9\\}$. However,\n",
    "there is empirical evidence that suggests that _naturally occurring_ numbers (e.g.,\n",
    "numbers in a non-fraudulent accounting ledgers) have leading digits that do not\n",
    "follow a uniform distribution. Instead, they follow a distribution defined by the following probability mass function:\n",
    "\n",
    "$$\n",
    "f(x) = \\log_{10}\\left( \\frac{x+1}{x} \\right) \\quad \\textrm{for } x = 1, 2, \\ldots, 9\n",
    "$$"
   ]
  },
  {
   "cell_type": "markdown",
   "metadata": {},
   "source": [
    "**Part A**: Write a function pmf_natural that implements $f(x)$. Your function should take in an integer $x$ and return $f(x) = P(X = x)$.  Use your function to argue that $f(x)$ is a well-defined probability mass function. "
   ]
  },
  {
   "cell_type": "code",
   "execution_count": 72,
   "metadata": {},
   "outputs": [
    {
     "name": "stdout",
     "output_type": "stream",
     "text": [
      "[ 0.30103     0.17609126  0.12493874  0.09691001  0.07918125  0.06694679\n",
      "  0.05799195  0.05115252  0.04575749]\n"
     ]
    }
   ],
   "source": [
    "def pmf_natural(x):\n",
    "    n = np.log10((x+1)/x)\n",
    "    return n\n",
    "\n",
    "\n",
    "x = np.zeros((9))\n",
    "for i in range(1,10):\n",
    "    x[i-1] = pmf_natural(i)\n",
    "print(x)\n",
    "\n",
    "y = [1/9 for i in range(1,10)]"
   ]
  },
  {
   "cell_type": "markdown",
   "metadata": {},
   "source": [
    "**Part B**: Use the function you wrote above to make stacked bar plots describing the pmf of the naturally occurring numbers as well as the discrete uniform distribution.  Make sure that the $x$- and $y$-limits on your plots are the same so that the two distributions are easy to compare. "
   ]
  },
  {
   "cell_type": "code",
   "execution_count": 75,
   "metadata": {},
   "outputs": [
    {
     "data": {
      "image/png": "[encoded data removed]",
      "text/plain": [
       "<matplotlib.figure.Figure at 0x151be16518>"
      ]
     },
     "metadata": {},
     "output_type": "display_data"
    }
   ],
   "source": [
    "fig, axes = plt.subplots(nrows=2, ncols=1, figsize=(8,8))\n",
    "axes[0].bar(range(1,10),x,alpha=0.9)\n",
    "axes[1].bar(range(1,10),y,alpha=0.9)\n",
    "\n",
    "axes[0].set_xlim([0,10])\n",
    "axes[1].set_xlim([0,10])\n",
    "axes[0].set_ylim([0,0.35])\n",
    "axes[1].set_ylim([0,0.35])\n",
    "\n",
    "axes[0].set_title(\"PMF - Naturally Occuring Distribution\")\n",
    "axes[0].set_ylabel(\"Probability\")\n",
    "axes[0].set_xlabel(\"Leading Digit of Number\")\n",
    "\n",
    "axes[1].set_title(\"PMF - Discrete Uniform Distribution\")\n",
    "axes[1].set_ylabel(\"Probability\")\n",
    "axes[1].set_xlabel(\"Leading Digit of Number\")\n",
    "\n",
    "fig.subplots_adjust(hspace=.5)"
   ]
  },
  {
   "cell_type": "markdown",
   "metadata": {},
   "source": [
    "**Part C**: Write a function cdf_natural that implements the cumulative distribution function $F(y)$ for $X$ and use it to compute the probability that the leading digit in a number is at most 4 and at most 5. "
   ]
  },
  {
   "cell_type": "code",
   "execution_count": 6,
   "metadata": {},
   "outputs": [
    {
     "ename": "NameError",
     "evalue": "name 'x' is not defined",
     "output_type": "error",
     "traceback": [
      "\u001b[0;31m---------------------------------------------------------------------------\u001b[0m",
      "\u001b[0;31mNameError\u001b[0m                                 Traceback (most recent call last)",
      "\u001b[0;32m<ipython-input-6-154663f2dbd5>\u001b[0m in \u001b[0;36m<module>\u001b[0;34m()\u001b[0m\n\u001b[1;32m      5\u001b[0m     \u001b[0;32mreturn\u001b[0m \u001b[0mn\u001b[0m\u001b[0;34m\u001b[0m\u001b[0m\n\u001b[1;32m      6\u001b[0m \u001b[0;34m\u001b[0m\u001b[0m\n\u001b[0;32m----> 7\u001b[0;31m \u001b[0matMostFour\u001b[0m \u001b[0;34m=\u001b[0m \u001b[0mcdf_natural\u001b[0m\u001b[0;34m(\u001b[0m\u001b[0;36m4\u001b[0m\u001b[0;34m)\u001b[0m\u001b[0;34m\u001b[0m\u001b[0m\n\u001b[0m\u001b[1;32m      8\u001b[0m \u001b[0matMostFive\u001b[0m \u001b[0;34m=\u001b[0m \u001b[0mcdf_natural\u001b[0m\u001b[0;34m(\u001b[0m\u001b[0;36m5\u001b[0m\u001b[0;34m)\u001b[0m\u001b[0;34m\u001b[0m\u001b[0m\n\u001b[1;32m      9\u001b[0m \u001b[0mprint\u001b[0m\u001b[0;34m(\u001b[0m\u001b[0;34m\"The probability that the leading digit in a number is at most 4 is:\"\u001b[0m\u001b[0;34m,\u001b[0m \u001b[0matMostFour\u001b[0m\u001b[0;34m)\u001b[0m\u001b[0;34m\u001b[0m\u001b[0m\n",
      "\u001b[0;32m<ipython-input-6-154663f2dbd5>\u001b[0m in \u001b[0;36mcdf_natural\u001b[0;34m(y)\u001b[0m\n\u001b[1;32m      2\u001b[0m     \u001b[0mn\u001b[0m \u001b[0;34m=\u001b[0m \u001b[0;36m0\u001b[0m\u001b[0;34m\u001b[0m\u001b[0m\n\u001b[1;32m      3\u001b[0m     \u001b[0;32mfor\u001b[0m \u001b[0mi\u001b[0m \u001b[0;32min\u001b[0m \u001b[0mrange\u001b[0m\u001b[0;34m(\u001b[0m\u001b[0;36m0\u001b[0m\u001b[0;34m,\u001b[0m\u001b[0my\u001b[0m\u001b[0;34m)\u001b[0m\u001b[0;34m:\u001b[0m\u001b[0;34m\u001b[0m\u001b[0m\n\u001b[0;32m----> 4\u001b[0;31m         \u001b[0mn\u001b[0m \u001b[0;34m+=\u001b[0m \u001b[0mx\u001b[0m\u001b[0;34m[\u001b[0m\u001b[0mi\u001b[0m\u001b[0;34m]\u001b[0m\u001b[0;34m\u001b[0m\u001b[0m\n\u001b[0m\u001b[1;32m      5\u001b[0m     \u001b[0;32mreturn\u001b[0m \u001b[0mn\u001b[0m\u001b[0;34m\u001b[0m\u001b[0m\n\u001b[1;32m      6\u001b[0m \u001b[0;34m\u001b[0m\u001b[0m\n",
      "\u001b[0;31mNameError\u001b[0m: name 'x' is not defined"
     ]
    }
   ],
   "source": [
    "def cdf_natural(y):\n",
    "    n = 0\n",
    "    for i in range(0,y):\n",
    "        n += x[i]\n",
    "    return n\n",
    "\n",
    "atMostFour = cdf_natural(4)\n",
    "atMostFive = cdf_natural(5)\n",
    "print(\"The probability that the leading digit in a number is at most 4 is:\", atMostFour)\n",
    "print(\"The probability that the leading digit in a number is at most 5 is:\", atMostFive)"
   ]
  },
  {
   "cell_type": "markdown",
   "metadata": {},
   "source": [
    "**Part D**: The data in tax_data.txt contains the taxable income for individuals in 1978. Use Pandas and the information from **Parts A-D** to determine whether or not the dataset is likely fraudulent.  In addition to code and any graphical summaries, make sure to clearly justify your conclusion in words. "
   ]
  },
  {
   "cell_type": "code",
   "execution_count": 15,
   "metadata": {},
   "outputs": [],
   "source": [
    "test = pd.read_csv(\"tax_data.txt\")\n",
    "test[[\"Tax Incomes\", \"New\"]] = test['Tax Incomes'].str.split('\\t',expand=True)\n",
    "leadDigitCount = np.zeros(9)\n",
    "for index,row in test.iterrows():\n",
    "    leadingDigit = int(row['New'][:1])\n",
    "    leadDigitCount[leadingDigit-1] += 1"
   ]
  },
  {
   "cell_type": "code",
   "execution_count": 25,
   "metadata": {},
   "outputs": [
    {
     "data": {
      "text/plain": [
       "Text(0.5,0,'Leading Digit of Number')"
      ]
     },
     "execution_count": 25,
     "metadata": {},
     "output_type": "execute_result"
    },
    {
     "data": {
      "image/png": "[encoded data removed]",
      "text/plain": [
       "<matplotlib.figure.Figure at 0x151aff3240>"
      ]
     },
     "metadata": {},
     "output_type": "display_data"
    }
   ],
   "source": [
    "leadDigitProportions = np.zeros(9)\n",
    "totalCount = leadDigitCount.sum()\n",
    "for i in range(0,9):\n",
    "    leadDigitProportions[i] = leadDigitCount[i]/totalCount\n",
    "\n",
    "fig, axes = plt.subplots(nrows=1, ncols=1, figsize=(8,8))\n",
    "axes.bar(range(1,10),leadDigitProportions,alpha=0.9)\n",
    "axes.set_title(\"Distribution of Tax Data\")\n",
    "axes.set_ylabel(\"Proportion of Leading Digit\")\n",
    "axes.set_xlabel(\"Leading Digit of Number\")"
   ]
  },
  {
   "cell_type": "markdown",
   "metadata": {},
   "source": [
    "This dataset is not fraudulent. Shown above is a distribution of the count of each leading digit in the dataset divided by the total size of the dataset. The distribution is very similar to the PMF of the naturally occurrings numbers."
   ]
  },
  {
   "cell_type": "markdown",
   "metadata": {},
   "source": [
    "### [25 points] Problem 4\n",
    "***\n",
    "\n",
    "You are the team manager for the CU intramural Quidditch team, the Boulder Beaters, and you've just made it to the national championship series against the Stanford Snitching Snitches. The typical Quidditch championship is a best of 11 series, so the first team to win 6 matches is declared the winner.  Furthermore, based on a rigorous statistical analysis of regular season play, the probability that the Boulder Beaters win any one match against the Snitching Snitches is given by $p = 0.55$.  \n",
    "\n",
    "**Part A**: What is the probability that you win the 11-game series on the 8th match played? \n"
   ]
  },
  {
   "cell_type": "code",
   "execution_count": null,
   "metadata": {},
   "outputs": [],
   "source": []
  },
  {
   "cell_type": "markdown",
   "metadata": {},
   "source": [
    "**Part B**: What is the probability that you win the 11-game series in any valid number of matches? "
   ]
  },
  {
   "cell_type": "code",
   "execution_count": null,
   "metadata": {},
   "outputs": [],
   "source": []
  },
  {
   "cell_type": "markdown",
   "metadata": {},
   "source": [
    "**Part C**: The winner of the champsionship will take home \\$10,000 to use for equipment and victory parties in the following season. Because the stakes are so high, you've decided to hire a famous Quidditch consultant, Bludger Bob, to help you prepare for each match. With Bob's help your probability of winning any given match increases to $p = 0.7$.  Bludger Bob charges a fee of \\$100 per game, but as a testament to his confidence in his abilities, only charges you the \\$100 for games that you win and only if you win the series.  So, if you play a 11-game series and win you will take home \\$10,000 less \\$600 for Bludger Bob's fees, for a total payout of \\$9,400.  What is the expected payout for an 11-game series?   "
   ]
  },
  {
   "cell_type": "code",
   "execution_count": null,
   "metadata": {},
   "outputs": [],
   "source": []
  },
  {
   "cell_type": "markdown",
   "metadata": {},
   "source": [
    "**Part D**: This year the National Intramural Quidditch Association (NIQA) is implementing an experimental rule.  As the team with the best record in the regular season you will get to choose the length of the championship series.  Specifically, you can choose the series length to be anywhere from $N=3, 5, 7, \\ldots, 99$ games long.  Assuming that you plan to use Bludger Bob's services and considering the fact that you have a better than even chance of winning each game, explain the trade-offs between choosing a short series vs. a long series in terms of Expected Payout. \n"
   ]
  },
  {
   "cell_type": "code",
   "execution_count": null,
   "metadata": {},
   "outputs": [],
   "source": []
  },
  {
   "cell_type": "markdown",
   "metadata": {},
   "source": [
    "**Part E**: Write a function optimal_series that takes in $p$, the probability that your team wins an individual game, then computes the Expected Payout for each series of length $N=3, 5, 7, \\ldots 99$ and returns the optimal series length.  In addition to returning the optimal series length, your function should also produce a plot of Expected Payout vs Series Length. You may write any additional helper functions that you like, but you should not change the API for the function optimal_series. "
   ]
  },
  {
   "cell_type": "code",
   "execution_count": null,
   "metadata": {},
   "outputs": [],
   "source": [
    "def optimal_series(p):\n",
    "    return 1"
   ]
  },
  {
   "cell_type": "markdown",
   "metadata": {},
   "source": [
    "### [25 points] Problem 5\n",
    "***\n",
    "\n",
    "The card game \"War\" is fun for small children. The basic rules are [here](https://www.bicyclecards.com/how-to-play/war/), but see the list below. Assume that the value of each card in the deck, in decreasing order, is A K Q J 10 9 8 7 6 5 4 3 2. For example, Q is of higher value than J. \n",
    "\n",
    "Create a simulation of the game War. Your simulation must:\n",
    "\n",
    "- initialize a single deck of 52 standard cards, shuffled.\n",
    "- deal half of those cards to each player.\n",
    "- simulate the game of War between two players until one player has all 52 cards, while recording the number of rounds that have passed.\n",
    "- for counting purposes, a round ends when the winner places cards on the bottom of their stack. \n",
    "- if a player runs out of cards mid-War, that player loses. \n",
    "- when cards are collected to be placed at the bottom of a deck, they are scraped from the table in a way that randomly shuffles them.  "
   ]
  },
  {
   "cell_type": "markdown",
   "metadata": {
    "collapsed": true
   },
   "source": [
    "**Part A**: For any fixed order of the cards, the game is completely non-random. This means that shuffling the deck randomly makes the duration of the game a random variable. Use your simulation to compute the expected value of the duration of a game of war. "
   ]
  },
  {
   "cell_type": "code",
   "execution_count": 55,
   "metadata": {},
   "outputs": [
    {
     "name": "stdout",
     "output_type": "stream",
     "text": [
      "[ 3 13  9  5  2  8  8 10 12  2  9 13  9  8  6 10  4 10  6  2  6 11 11  8  7\n",
      " 12]\n",
      "[14  3 11 13 13 14  4  5  7  4  3 14  2  7  5 12 12  9 11 14  5  6 10  4  7\n",
      "  3]\n",
      "player1card is 7\n",
      "player2card is 7\n",
      "player1deck is: [13  3  8  4 10  5 12  7  9  3  9  2  8  7  6  5 10  9  6  5 11  6 11 10  8\n",
      "  4]\n",
      "player2deck is: [ 3 14  9 11  5 13  2 13  8 14  2  4 13 14 10 12  4 12  6 11  2 14]\n",
      "tempDeck [ 7  7 12  3]\n",
      "player1card is 6\n",
      "player2card is 6\n",
      "player1deck is: [11  6 11 10  8  4  7  7 12  3 13  3 10  5 12  2  9  8  9  2 10  4]\n",
      "player2deck is: [ 2 14  3 14  8  9  4 11  5 13  7 13  3 14  2  4  8 13  7 14  6 10  5 12  9\n",
      " 12]\n",
      "tempDeck [ 6  6  5 11]\n",
      "player1card is 8\n",
      "player2card is 8\n",
      "player1deck is: [ 7  7 12  3 13  3 10  5 12  2  9  8  9  2 10  4  6  6  5 11 11  2 11  3]\n",
      "player2deck is: [ 4 11  5 13  7 13  3 14  2  4  8 13  7 14  6 10  5 12  9 12  6 14 10 14]\n",
      "tempDeck [8 8 4 9]\n",
      "player1card is 8\n",
      "player2card is 8\n",
      "player1deck is: [ 4  3  7  3 12  5 13  2  7  4 10  8 12  2  9  4  9  6 10  5 11  2 11  3]\n",
      "player2deck is: [ 9 13  4 13  5 14  3 13  2 14  8 10  7 12  6  9  6 11  5 12  6 14 10 14]\n",
      "tempDeck [ 8  8  7 11]\n",
      "player1card is 8\n",
      "player2card is 8\n",
      "player1deck is: [ 7 12  6 13  6  7  5 10  6 12  7  9  4  9  3 10  3 11  5 11  2]\n",
      "player2deck is: [11  8  9  2 13  4 13  9 14  6 13  5 14  2 10  3 12  7 11  4 12  5 14  3 14\n",
      "  2  8]\n",
      "tempDeck [ 8  8 10  4]\n"
     ]
    },
    {
     "ename": "KeyboardInterrupt",
     "evalue": "",
     "output_type": "error",
     "traceback": [
      "\u001b[0;31m---------------------------------------------------------------------------\u001b[0m",
      "\u001b[0;31mKeyboardInterrupt\u001b[0m                         Traceback (most recent call last)",
      "\u001b[0;32m<ipython-input-55-37ce6e1bf851>\u001b[0m in \u001b[0;36m<module>\u001b[0;34m()\u001b[0m\n\u001b[1;32m     17\u001b[0m     \u001b[0mplayer2card\u001b[0m \u001b[0;34m=\u001b[0m \u001b[0mplayer2deck\u001b[0m\u001b[0;34m[\u001b[0m\u001b[0;36m0\u001b[0m\u001b[0;34m]\u001b[0m\u001b[0;34m\u001b[0m\u001b[0m\n\u001b[1;32m     18\u001b[0m     \u001b[0mplayer1deck\u001b[0m \u001b[0;34m=\u001b[0m \u001b[0mnp\u001b[0m\u001b[0;34m.\u001b[0m\u001b[0mdelete\u001b[0m\u001b[0;34m(\u001b[0m\u001b[0mplayer1deck\u001b[0m\u001b[0;34m,\u001b[0m\u001b[0;36m0\u001b[0m\u001b[0;34m)\u001b[0m\u001b[0;34m\u001b[0m\u001b[0m\n\u001b[0;32m---> 19\u001b[0;31m     \u001b[0mplayer2deck\u001b[0m \u001b[0;34m=\u001b[0m \u001b[0mnp\u001b[0m\u001b[0;34m.\u001b[0m\u001b[0mdelete\u001b[0m\u001b[0;34m(\u001b[0m\u001b[0mplayer2deck\u001b[0m\u001b[0;34m,\u001b[0m\u001b[0;36m0\u001b[0m\u001b[0;34m)\u001b[0m\u001b[0;34m\u001b[0m\u001b[0m\n\u001b[0m\u001b[1;32m     20\u001b[0m     \u001b[0mtempDeck\u001b[0m \u001b[0;34m=\u001b[0m \u001b[0mnp\u001b[0m\u001b[0;34m.\u001b[0m\u001b[0mappend\u001b[0m\u001b[0;34m(\u001b[0m\u001b[0mplayer1card\u001b[0m\u001b[0;34m,\u001b[0m\u001b[0mplayer2card\u001b[0m\u001b[0;34m)\u001b[0m\u001b[0;34m\u001b[0m\u001b[0m\n\u001b[1;32m     21\u001b[0m     \u001b[0;32mif\u001b[0m\u001b[0;34m(\u001b[0m\u001b[0mplayer1card\u001b[0m\u001b[0;34m==\u001b[0m\u001b[0mplayer2card\u001b[0m\u001b[0;34m)\u001b[0m\u001b[0;34m:\u001b[0m\u001b[0;34m\u001b[0m\u001b[0m\n",
      "\u001b[0;32m/anaconda3/lib/python3.6/site-packages/numpy/lib/function_base.py\u001b[0m in \u001b[0;36mdelete\u001b[0;34m(arr, obj, axis)\u001b[0m\n\u001b[1;32m   4849\u001b[0m         \u001b[0mslobj\u001b[0m\u001b[0;34m[\u001b[0m\u001b[0maxis\u001b[0m\u001b[0;34m]\u001b[0m \u001b[0;34m=\u001b[0m \u001b[0mslice\u001b[0m\u001b[0;34m(\u001b[0m\u001b[0;32mNone\u001b[0m\u001b[0;34m,\u001b[0m \u001b[0mobj\u001b[0m\u001b[0;34m)\u001b[0m\u001b[0;34m\u001b[0m\u001b[0m\n\u001b[1;32m   4850\u001b[0m         \u001b[0mnew\u001b[0m\u001b[0;34m[\u001b[0m\u001b[0mslobj\u001b[0m\u001b[0;34m]\u001b[0m \u001b[0;34m=\u001b[0m \u001b[0marr\u001b[0m\u001b[0;34m[\u001b[0m\u001b[0mslobj\u001b[0m\u001b[0;34m]\u001b[0m\u001b[0;34m\u001b[0m\u001b[0m\n\u001b[0;32m-> 4851\u001b[0;31m         \u001b[0mslobj\u001b[0m\u001b[0;34m[\u001b[0m\u001b[0maxis\u001b[0m\u001b[0;34m]\u001b[0m \u001b[0;34m=\u001b[0m \u001b[0mslice\u001b[0m\u001b[0;34m(\u001b[0m\u001b[0mobj\u001b[0m\u001b[0;34m,\u001b[0m \u001b[0;32mNone\u001b[0m\u001b[0;34m)\u001b[0m\u001b[0;34m\u001b[0m\u001b[0m\n\u001b[0m\u001b[1;32m   4852\u001b[0m         \u001b[0mslobj2\u001b[0m \u001b[0;34m=\u001b[0m \u001b[0;34m[\u001b[0m\u001b[0mslice\u001b[0m\u001b[0;34m(\u001b[0m\u001b[0;32mNone\u001b[0m\u001b[0;34m)\u001b[0m\u001b[0;34m]\u001b[0m\u001b[0;34m*\u001b[0m\u001b[0mndim\u001b[0m\u001b[0;34m\u001b[0m\u001b[0m\n\u001b[1;32m   4853\u001b[0m         \u001b[0mslobj2\u001b[0m\u001b[0;34m[\u001b[0m\u001b[0maxis\u001b[0m\u001b[0;34m]\u001b[0m \u001b[0;34m=\u001b[0m \u001b[0mslice\u001b[0m\u001b[0;34m(\u001b[0m\u001b[0mobj\u001b[0m\u001b[0;34m+\u001b[0m\u001b[0;36m1\u001b[0m\u001b[0;34m,\u001b[0m \u001b[0;32mNone\u001b[0m\u001b[0;34m)\u001b[0m\u001b[0;34m\u001b[0m\u001b[0m\n",
      "\u001b[0;31mKeyboardInterrupt\u001b[0m: "
     ]
    }
   ],
   "source": [
    "deck = np.array([2,3,4,5,6,7,8,9,10,11,12,13,14]*4)\n",
    "np.random.shuffle(deck)\n",
    "player1deck = np.array([0]*26)\n",
    "player2deck = np.array([0]*26)\n",
    "\n",
    "for i in range(0,26):\n",
    "    player1deck[i] = deck[i]\n",
    "for i in range(0,26):\n",
    "    player2deck[i] = deck[i+26]\n",
    "\n",
    "print(player1deck)\n",
    "print(player2deck)\n",
    "\n",
    "rounds = 0\n",
    "while(len(player1deck) != 52 and len(player2deck)!= 52):\n",
    "    player1card = player1deck[0]\n",
    "    player2card = player2deck[0]\n",
    "    player1deck = np.delete(player1deck,0)\n",
    "    player2deck = np.delete(player2deck,0)\n",
    "    tempDeck = np.append(player1card,player2card)\n",
    "    if(player1card==player2card):\n",
    "        while(player1card==player2card):\n",
    "            print(\"player1card is\", player1card)\n",
    "            print(\"player2card is\", player2card)\n",
    "            tempDeck = np.append(tempDeck,player1deck[0])\n",
    "            tempDeck = np.append(tempDeck,player2deck[0])\n",
    "            player1deck = np.delete(player1deck,0)\n",
    "            player2deck = np.delete(player2deck,0)\n",
    "            print(\"player1deck is:\", player1deck)\n",
    "            print(\"player2deck is:\", player2deck)\n",
    "            print(\"tempDeck\",tempDeck)\n",
    "            player1card = player1deck[0]\n",
    "            player2card = player2deck[0]\n",
    "    if(player1card>player2card):  \n",
    "        #print(\"enter2\")\n",
    "        player1deck = np.append(player1deck,tempDeck)\n",
    "    elif(player1card<player2card):\n",
    "        #print(\"enter3\")\n",
    "        player2deck = np.append(player2deck,tempDeck)\n",
    "        \n",
    "print(player1deck)\n",
    "print(player2deck)\n",
    "    "
   ]
  },
  {
   "cell_type": "markdown",
   "metadata": {
    "collapsed": true
   },
   "source": [
    "**Part B**: What happens to the expected duration if the K, Q, and J cards are all now assumed to have _equal_ rank?"
   ]
  },
  {
   "cell_type": "code",
   "execution_count": null,
   "metadata": {},
   "outputs": [],
   "source": []
  },
  {
   "cell_type": "markdown",
   "metadata": {},
   "source": [
    "**Part C**: Suppose that before the game starts, Player 1 gives all of their 2s and 3s to Player 2, and Player 2 gives all their As and Ks to Player 1. Does this tend to make the game longer or shorter?"
   ]
  },
  {
   "cell_type": "code",
   "execution_count": null,
   "metadata": {},
   "outputs": [],
   "source": []
  }
 ],
 "metadata": {
  "kernelspec": {
   "display_name": "Python 3",
   "language": "python",
   "name": "python3"
  },
  "language_info": {
   "codemirror_mode": {
    "name": "ipython",
    "version": 3
   },
   "file_extension": ".py",
   "mimetype": "text/x-python",
   "name": "python",
   "nbconvert_exporter": "python",
   "pygments_lexer": "ipython3",
   "version": "3.6.3"
  }
 },
 "nbformat": 4,
 "nbformat_minor": 2
}
